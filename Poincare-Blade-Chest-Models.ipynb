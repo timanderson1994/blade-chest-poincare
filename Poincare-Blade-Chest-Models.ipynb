{
 "cells": [
  {
   "cell_type": "code",
   "execution_count": 1,
   "metadata": {},
   "outputs": [],
   "source": [
    "import numpy as np\n",
    "import matplotlib.pyplot as plt\n",
    "from utils import *\n",
    "from matplotlib2tikz import save as tikz_save\n",
    "\n",
    "%reload_ext autoreload\n",
    "%autoreload 2\n"
   ]
  },
  {
   "cell_type": "code",
   "execution_count": 2,
   "metadata": {},
   "outputs": [
    {
     "name": "stdout",
     "output_type": "stream",
     "text": [
      "[ 0.57635027  0.57635027  0.57635027]\n"
     ]
    }
   ],
   "source": [
    "# Test projection function\n",
    "theta = np.array([1, 1, 1])\n",
    "thetaProj = proj(theta)\n",
    "print(thetaProj)"
   ]
  },
  {
   "cell_type": "code",
   "execution_count": 3,
   "metadata": {},
   "outputs": [
    {
     "name": "stdout",
     "output_type": "stream",
     "text": [
      "0.5\n"
     ]
    }
   ],
   "source": [
    "# Test distance function\n",
    "theta1 = np.array([0.5, 0, 0])\n",
    "theta2 = np.array([0, 0.5, 0])\n",
    "# dist = distance(theta1,theta2, mode = 'Riemannian')\n",
    "dist = distance(theta1,theta2)\n",
    "print(dist) # test distance function"
   ]
  },
  {
   "cell_type": "markdown",
   "metadata": {},
   "source": [
    "# Part A: Rock-Paper-Scissors(-Lizard-Spock) Data\n",
    "\n",
    "We simulate different scenarios for matchups with rock-paper-scissors or rock-paper-scissors-lizard-spock data."
   ]
  },
  {
   "cell_type": "code",
   "execution_count": null,
   "metadata": {
    "collapsed": true
   },
   "outputs": [],
   "source": [
    "# plotting function for rock paper scissors data\n",
    "def model_plot(model, filename):\n",
    "    ax = plt.axes()\n",
    "    ax.arrow(model.chests[0,0], model.chests[0,1], model.blades[0,0] - model.chests[0,0], \n",
    "             model.blades[0,1] - model.chests[0,1], fc=\"k\", ec=\"k\", head_width=0.1, head_length=0.1)\n",
    "    ax.arrow(model.chests[1,0], model.chests[1,1], model.blades[1,0] - model.chests[1,0], \n",
    "             model.blades[1,1] - model.chests[1,1], fc=\"k\", ec=\"b\", head_width=0.1, head_length=0.1)\n",
    "    ax.arrow(model.chests[2,0], model.chests[2,1], model.blades[2,0] - model.chests[2,0], \n",
    "             model.blades[2,1] - model.chests[2,1], fc=\"k\", ec=\"r\", head_width=0.1, head_length=0.1)\n",
    "    ax.set_xlim([-2,2])\n",
    "    ax.set_ylim([-2,2])\n",
    "    tikz_save(filename)\n",
    "#     plt.savefig(filename,dpi=200)\n",
    "    plt.show()"
   ]
  },
  {
   "cell_type": "code",
   "execution_count": null,
   "metadata": {},
   "outputs": [],
   "source": [
    "# Generate artificial data for rock paper scissors\n",
    "# 0 = rock, 1 = scissors, 2 = paper\n",
    "#\n",
    "# simulate 3000 games per results in the paper\n",
    "\n",
    "D = [(1,0,0,1000), (2,1,0,1000), (0,2,0,1000)]\n",
    "\n",
    "# Train for rock paper scissors data\n",
    "RPS = blade_chest(3,2, bias = False)\n",
    "iterNum = 5000\n",
    "alpha = 1e-4\n",
    "\n",
    "for i in range(iterNum):\n",
    "#     datapoint = np.random.randint(0,high = 3)\n",
    "    playerA, playerB, na, nb = D[i%3]\n",
    "    RPS.SGD_optimizer(playerA, playerB, (na,nb), alpha, mode = 'Euclidean', reg = 1e-2)\n",
    "\n",
    "model_plot(RPS, '../Figures/tikzFigs/RPS_Euclidean.tex')\n"
   ]
  },
  {
   "cell_type": "code",
   "execution_count": null,
   "metadata": {},
   "outputs": [],
   "source": [
    "# Generate artificial data for rock paper scissors\n",
    "# 0 = rock, 1 = scissors, 2 = paper\n",
    "#\n",
    "# simulate 3000 games per results in the paper\n",
    "\n",
    "D = [(1,0,0,1000), (2,1,0,1000), (0,2,0,1000)]\n",
    "\n",
    "# Train for rock paper scissors data\n",
    "RPS = blade_chest(3,2, bias = False)\n",
    "iterNum = 5000\n",
    "alpha = 1e-4\n",
    "\n",
    "for i in range(iterNum):\n",
    "#     datapoint = np.random.randint(0,high = 3)\n",
    "    playerA, playerB, na, nb = D[i%3]\n",
    "    RPS.SGD_optimizer(playerA, playerB, (na,nb), alpha, mode = 'Riemannian', reg = 1e-2)\n",
    "\n",
    "model_plot(RPS, '../Figures/tikzFigs/RPS_Riemannian.tex')\n"
   ]
  },
  {
   "cell_type": "code",
   "execution_count": null,
   "metadata": {},
   "outputs": [],
   "source": [
    "# Rock-Paper-Scissors with optimizing over single games\n",
    "# 0 = rock, 1 = scissors, 2 = paper\n",
    "#\n",
    "# Create matchup data set D2\n",
    "D2 = [(1,0,0,1), (2,1,0,1), (0,2,0,1)]\n",
    "\n",
    "# Train for rock paper scissors data\n",
    "RPS2 = blade_chest(3,2, bias = False)\n",
    "iterNum = 5000\n",
    "alpha = 1e-2\n",
    "\n",
    "for i in range(iterNum):\n",
    "#     datapoint = np.random.randint(0,high = 3)\n",
    "    playerA, playerB, na, nb = D2[i%3]\n",
    "    RPS2.SGD_optimizer(playerA, playerB, (na,nb), alpha, mode = 'Riemannian', reg = 1e-2)\n",
    "\n",
    "model_plot(RPS2, '../Figures/tikzFigs/RPS2_Riemannian.tex')\n",
    "# model_plot(RPS2, '../Figures/RPS2_Riemannian.png')\n"
   ]
  },
  {
   "cell_type": "code",
   "execution_count": null,
   "metadata": {
    "collapsed": true
   },
   "outputs": [],
   "source": [
    "def model_plot2(model, filename):\n",
    "    # for plotting rock-paper-scissors-lizard-spock models\n",
    "    ax = plt.axes()\n",
    "    ax.arrow(model.chests[0,0], model.chests[0,1], model.blades[0,0] - model.chests[0,0], \n",
    "             model.blades[0,1] - model.chests[0,1], fc=\"k\", ec=\"k\", head_width=0.1, head_length=0.1)\n",
    "    ax.arrow(model.chests[1,0], model.chests[1,1], model.blades[1,0] - model.chests[1,0], \n",
    "             model.blades[1,1] - model.chests[1,1], fc=\"k\", ec=\"b\", head_width=0.1, head_length=0.1)\n",
    "    ax.arrow(model.chests[2,0], model.chests[2,1], model.blades[2,0] - model.chests[2,0], \n",
    "             model.blades[2,1] - model.chests[2,1], fc=\"k\", ec=\"r\", head_width=0.1, head_length=0.1)\n",
    "    ax.arrow(model.chests[3,0], model.chests[3,1], model.blades[3,0] - model.chests[3,0], \n",
    "             model.blades[3,1] - model.chests[3,1], fc=\"k\", ec=\"g\", head_width=0.1, head_length=0.1)\n",
    "    ax.arrow(model.chests[4,0], model.chests[4,1], model.blades[4,0] - model.chests[4,0], \n",
    "             model.blades[4,1] - model.chests[4,1], fc=\"k\", ec=\"m\", head_width=0.1, head_length=0.1)\n",
    "    ax.set_xlim([-2,2])\n",
    "    ax.set_ylim([-2,2])\n",
    "    tikz_save(filename)\n",
    "#     plt.savefig(filename,dpi=200)\n",
    "    plt.show()"
   ]
  },
  {
   "cell_type": "code",
   "execution_count": null,
   "metadata": {},
   "outputs": [],
   "source": [
    "### Rock Paper Scissors Lizard Spock\n",
    "# \n",
    "# From popular show \"The Big Bang Theory\"\n",
    "# Rules outlined at: http://bigbangtheory.wikia.com/wiki/Rock_Paper_Scissors_Lizard_Spock?file=RPSLS.png\n",
    "\n",
    "# Generate artificial data for rock paper scissors\n",
    "# 0 = rock, 1 = paper, 2 = scissors, 3 = lizard, 4 = Spock \n",
    "#\n",
    "# simulate 1000 games between each player per the paper\n",
    "\n",
    "# Create matchup data set\n",
    "D_spock = [(0,1,0,1000), (0,2,1000,0), (0,3,1000,0), (0,4,0,1000), (1,2,0,1000), (1,3,0,1000), (1,4,1000,0),\n",
    "          (2,3,1000,0), (2,4,0,1000), (3,4,1000,0)]\n",
    "\n",
    "# Run optimization on members of D\n",
    "# Train for rock paper scissors data\n",
    "RPSLS = blade_chest(5,2, bias = False)\n",
    "iterNum = int(5e3)\n",
    "alpha = 1e-3\n",
    "mode = 'Riemannian'\n",
    "\n",
    "for i in range(iterNum):\n",
    "    datapoint = np.random.randint(0,high = 10)\n",
    "    playerA, playerB, na, nb = D_spock[datapoint]\n",
    "    RPSLS.SGD_optimizer(playerA, playerB, (na,nb), alpha, mode = mode, reg = 1e-2)\n",
    "\n",
    "model_plot2(RPSLS, '../Figures/tikzFigs/RPSLS_'+mode+'.tex')\n",
    "\n",
    "# model_plot2(RPSLS, '../Figures/RPSLS_Euclidean.png')\n"
   ]
  },
  {
   "cell_type": "code",
   "execution_count": null,
   "metadata": {},
   "outputs": [],
   "source": [
    "D_spock = [(0,1,0,1), (0,2,1,0), (0,3,1,0), (0,4,0,1), (1,2,0,1), (1,3,0,1), (1,4,1,0),\n",
    "          (2,3,1,0), (2,4,0,1), (3,4,1,0)]\n",
    "\n",
    "# Run optimization for individual games\n",
    "# Train for rock paper scissors data\n",
    "RPSLS2 = blade_chest(5,2, bias = False)\n",
    "iterNum = int(1e4)\n",
    "alpha = 1e-3\n",
    "\n",
    "for i in range(iterNum):\n",
    "    datapoint = np.random.randint(0,high = 10)\n",
    "    playerA, playerB, na, nb = D_spock[datapoint]\n",
    "    RPSLS2.SGD_optimizer(playerA, playerB, (na,nb), alpha, mode = 'Riemannian', reg = 1e-3)\n",
    "\n",
    "\n",
    "model_plot2(RPSLS2, '../Figures/tikzFigs/RPSLS_Riemannian.tex')\n",
    "# model_plot2(RPSLS2, '../Figures/RPSLS2_Riemannian.png')"
   ]
  },
  {
   "cell_type": "markdown",
   "metadata": {},
   "source": [
    "# Part B: DoTA Data\n",
    "Data from popular video game *Defense of the Ancients*"
   ]
  },
  {
   "cell_type": "code",
   "execution_count": 81,
   "metadata": {},
   "outputs": [],
   "source": [
    "# Load dataset\n",
    "\n",
    "numPlayers, numGames, D_DoTA_train, D_DoTA_test = data_parse('../Datasets/dota/dota.txt')"
   ]
  },
  {
   "cell_type": "code",
   "execution_count": 83,
   "metadata": {},
   "outputs": [],
   "source": [
    "# Do optimization over set D\n",
    "\n",
    "modes = ['Euclidean','Riemannian']\n",
    "# modes = ['Euclidean']\n",
    "numPlayers = 757\n",
    "numTrain = len(D_DoTA_train)\n",
    "# dims = [2, 10, 100]\n",
    "dims = [2, 5, 10, 25, 50, 100, 150, 200, 250, 300]\n",
    "epochNum = 25\n",
    "alpha = 1e-2\n",
    "reg = 1e-3\n",
    "\n",
    "train_acc_euc = np.zeros(len(dims))\n",
    "test_acc_euc = np.zeros(len(dims))\n",
    "\n",
    "train_acc_rie = np.zeros(len(dims))\n",
    "test_acc_rie = np.zeros(len(dims))\n",
    "\n",
    "for mode in modes:\n",
    "    for j in range(len(dims)):\n",
    "        DoTA = blade_chest(numPlayers, dims[j])\n",
    "        \n",
    "        for i in range(epochNum*numTrain):\n",
    "            if mode == 'Riemannian' and (i < 10*numTrain):\n",
    "                LR = alpha / 10\n",
    "            else:\n",
    "                LR = alpha\n",
    "                \n",
    "            datapoint = np.random.randint(0, high = numTrain)\n",
    "            playerA, playerB, na, nb = D_DoTA_train[datapoint]\n",
    "            DoTA.SGD_optimizer(playerA, playerB, (na,nb), LR, mode = mode, reg = reg)\n",
    "        \n",
    "        \n",
    "        if mode =='Riemannian':\n",
    "            train_acc_rie[j] = DoTA.accuracy(D_DoTA_train, mode = mode)\n",
    "            test_acc_rie[j] = DoTA.accuracy(D_DoTA_test, mode = mode)\n",
    "        else:\n",
    "            train_acc_euc[j] = DoTA.accuracy(D_DoTA_train, mode = mode)\n",
    "            test_acc_euc[j] = DoTA.accuracy(D_DoTA_test, mode = mode)\n"
   ]
  },
  {
   "cell_type": "code",
   "execution_count": 84,
   "metadata": {
    "collapsed": true
   },
   "outputs": [],
   "source": [
    "# Train Bradley-Terry Model for dataset\n",
    "numTrain = len(D_DoTA_train)\n",
    "epochNum = 10\n",
    "alpha = 5e-2\n",
    "\n",
    "train_acc_BT = np.zeros(len(dims))\n",
    "test_acc_BT = np.zeros(len(dims))\n",
    "\n",
    "DoTA = blade_chest(numPlayers, 2, BT = True)\n",
    "\n",
    "# training loop\n",
    "for i in range(epochNum*numTrain):\n",
    "    datapoint = np.random.randint(0, high = numTrain)\n",
    "    playerA, playerB, na, nb = D_DoTA_train[datapoint]\n",
    "    DoTA.SGD_optimizer(playerA, playerB, (na,nb), alpha, reg = reg)\n",
    "\n",
    "        \n",
    "train_acc_BT = DoTA.accuracy(D_DoTA_train)\n",
    "train_acc_BT = train_acc_BT*np.ones(len(dims))\n",
    "\n",
    "test_acc_BT = DoTA.accuracy(D_DoTA_test)\n",
    "test_acc_BT = test_acc_BT*np.ones(len(dims))\n"
   ]
  },
  {
   "cell_type": "code",
   "execution_count": 85,
   "metadata": {},
   "outputs": [],
   "source": [
    "# Calculate naive prediction\n",
    "DoTA = blade_chest(numPlayers, 1)\n",
    "DoTA.naive_train(numPlayers, D_DoTA_train)\n",
    "\n",
    "train_acc_naive = DoTA.naive_eval(D_DoTA_train)\n",
    "train_acc_naive = train_acc_naive*np.ones(len(dims))\n",
    "test_acc_naive = DoTA.naive_eval(D_DoTA_test)\n",
    "test_acc_naive = test_acc_naive*np.ones(len(dims))"
   ]
  },
  {
   "cell_type": "code",
   "execution_count": 86,
   "metadata": {},
   "outputs": [
    {
     "name": "stdout",
     "output_type": "stream",
     "text": [
      "=========================================================\n",
      "Please add the following lines to your LaTeX preamble:\n",
      "\n",
      "\\usepackage[utf8]{inputenc}\n",
      "\\usepackage{fontspec} % This line only for XeLaTeX and LuaLaTeX\n",
      "\\usepackage{pgfplots}\n",
      "=========================================================\n",
      "Horizontal alignment will be ignored as no 'x tick label text width' has been passed in the 'extra' parameter\n",
      "Horizontal alignment will be ignored as no 'y tick label text width' has been passed in the 'extra' parameter\n"
     ]
    },
    {
     "data": {
      "image/png": "[encoded data removed]",
      "text/plain": [
       "<matplotlib.figure.Figure at 0x119c09978>"
      ]
     },
     "metadata": {},
     "output_type": "display_data"
    },
    {
     "name": "stdout",
     "output_type": "stream",
     "text": [
      "=========================================================\n",
      "Please add the following lines to your LaTeX preamble:\n",
      "\n",
      "\\usepackage[utf8]{inputenc}\n",
      "\\usepackage{fontspec} % This line only for XeLaTeX and LuaLaTeX\n",
      "\\usepackage{pgfplots}\n",
      "=========================================================\n",
      "Horizontal alignment will be ignored as no 'x tick label text width' has been passed in the 'extra' parameter\n",
      "Horizontal alignment will be ignored as no 'y tick label text width' has been passed in the 'extra' parameter\n"
     ]
    },
    {
     "data": {
      "image/png": "[encoded data removed]",
      "text/plain": [
       "<matplotlib.figure.Figure at 0x125480668>"
      ]
     },
     "metadata": {},
     "output_type": "display_data"
    }
   ],
   "source": [
    "ax = plt.axes()\n",
    "ax.semilogx(dims, test_acc_rie, label='Riemannian')\n",
    "ax.semilogx(dims, test_acc_euc, label='Euclidean')\n",
    "ax.semilogx(dims, test_acc_BT, label='Bradley-Terry')\n",
    "ax.semilogx(dims, test_acc_naive, label='Naive')\n",
    "plt.title('Test Accuracy - DoTA Dataset')\n",
    "plt.xlabel('Dimension')\n",
    "plt.ylabel('Accuracy')\n",
    "plt.legend()\n",
    "tikz_save('../Figures/tikzFigs/DoTA_test.tex')\n",
    "plt.show()\n",
    "\n",
    "ax = plt.axes()\n",
    "ax.semilogx(dims, test_acc_rie, label='Riemannian')\n",
    "ax.semilogx(dims, train_acc_euc, label='Euclidean')\n",
    "ax.semilogx(dims, train_acc_BT, label='Bradley-Terry')\n",
    "ax.semilogx(dims, train_acc_naive, label='Naive')\n",
    "plt.title('Train Accuracy - DoTA Dataset')\n",
    "plt.xlabel('Dimension')\n",
    "plt.ylabel('Accuracy')\n",
    "plt.legend()\n",
    "tikz_save('../Figures/tikzFigs/DoTA_train.tex')\n",
    "plt.show()\n"
   ]
  },
  {
   "cell_type": "markdown",
   "metadata": {},
   "source": [
    "# Part C: Starcraft Datasets\n",
    "Evaluated datasets for *StarCraft II: Wings of Liberty* and *StarCraft II: Heart of the Swarm*."
   ]
  },
  {
   "cell_type": "code",
   "execution_count": 73,
   "metadata": {},
   "outputs": [],
   "source": [
    "# Load dataset\n",
    "numPlayers, numGames, D_HoTS_train, D_HoTS_test = data_parse('../Datasets/starcraft/HoTS.txt')"
   ]
  },
  {
   "cell_type": "code",
   "execution_count": 74,
   "metadata": {},
   "outputs": [],
   "source": [
    "# Do optimization over set D\n",
    "\n",
    "modes = ['Euclidean','Riemannian']\n",
    "# modes = ['Euclidean']\n",
    "\n",
    "numTrain = len(D_HoTS_train)\n",
    "dims = [2, 5, 10, 25, 50, 100, 150, 200, 250, 300]\n",
    "epochNum = 25\n",
    "burnIn = 5\n",
    "alpha = 1e-2\n",
    "reg = 1e-2\n",
    "\n",
    "train_acc_euc = np.zeros(len(dims))\n",
    "test_acc_euc = np.zeros(len(dims))\n",
    "\n",
    "train_acc_rie = np.zeros(len(dims))\n",
    "test_acc_rie = np.zeros(len(dims))\n",
    "\n",
    "for mode in modes:\n",
    "    for j in range(len(dims)):\n",
    "        HoTS = blade_chest(numPlayers, dims[j])\n",
    "        \n",
    "        # training loop\n",
    "        for i in range(epochNum*numTrain):\n",
    "            if mode == 'Riemannian' and (i < burnIn*numTrain):\n",
    "                LR = alpha / 10\n",
    "            else:\n",
    "                LR = alpha\n",
    "                \n",
    "            datapoint = np.random.randint(0, high = numTrain)\n",
    "            playerA, playerB, na, nb = D_HoTS_train[datapoint]\n",
    "            HoTS.SGD_optimizer(playerA, playerB, (na,nb), LR, mode = mode, reg = reg)\n",
    "        \n",
    "        \n",
    "        if mode=='Riemannian':\n",
    "            train_acc_rie[j] = HoTS.accuracy(D_HoTS_train, mode = mode)\n",
    "            test_acc_rie[j] = HoTS.accuracy(D_HoTS_test, mode = mode)\n",
    "        else:\n",
    "            train_acc_euc[j] = HoTS.accuracy(D_HoTS_train, mode = mode)\n",
    "            test_acc_euc[j] = HoTS.accuracy(D_HoTS_test, mode = mode)\n",
    "            "
   ]
  },
  {
   "cell_type": "code",
   "execution_count": 78,
   "metadata": {},
   "outputs": [],
   "source": [
    "# Train Bradley-Terry Model for dataset\n",
    "\n",
    "numTrain = len(D_HoTS_train)\n",
    "epochNum = 10\n",
    "alpha = 5e-2\n",
    "\n",
    "train_acc_BT = np.zeros(len(dims))\n",
    "test_acc_BT = np.zeros(len(dims))\n",
    "\n",
    "HoTS = blade_chest(numPlayers, 2, BT = True)\n",
    "\n",
    "# training loop\n",
    "for i in range(epochNum*numTrain):\n",
    "    datapoint = np.random.randint(0, high = numTrain)\n",
    "    playerA, playerB, na, nb = D_HoTS_train[datapoint]\n",
    "    HoTS.SGD_optimizer(playerA, playerB, (na,nb), alpha, reg = reg)\n",
    "\n",
    "        \n",
    "train_acc_BT = HoTS.accuracy(D_HoTS_train)\n",
    "train_acc_BT = train_acc_BT*np.ones(len(dims))\n",
    "\n",
    "test_acc_BT = HoTS.accuracy(D_HoTS_test)\n",
    "test_acc_BT = test_acc_BT*np.ones(len(dims))\n"
   ]
  },
  {
   "cell_type": "code",
   "execution_count": 79,
   "metadata": {},
   "outputs": [],
   "source": [
    "# Calculate naive prediction\n",
    "HoTS = blade_chest(numPlayers, 1)\n",
    "HoTS.naive_train(numPlayers, D_HoTS_train)\n",
    "\n",
    "train_acc_naive = HoTS.naive_eval(D_HoTS_train)\n",
    "train_acc_naive = train_acc_naive*np.ones(len(dims))\n",
    "test_acc_naive = HoTS.naive_eval(D_HoTS_test)\n",
    "test_acc_naive = test_acc_naive*np.ones(len(dims))\n"
   ]
  },
  {
   "cell_type": "code",
   "execution_count": 80,
   "metadata": {},
   "outputs": [
    {
     "name": "stdout",
     "output_type": "stream",
     "text": [
      "=========================================================\n",
      "Please add the following lines to your LaTeX preamble:\n",
      "\n",
      "\\usepackage[utf8]{inputenc}\n",
      "\\usepackage{fontspec} % This line only for XeLaTeX and LuaLaTeX\n",
      "\\usepackage{pgfplots}\n",
      "=========================================================\n",
      "Horizontal alignment will be ignored as no 'x tick label text width' has been passed in the 'extra' parameter\n",
      "Horizontal alignment will be ignored as no 'y tick label text width' has been passed in the 'extra' parameter\n"
     ]
    },
    {
     "data": {
      "image/png": "[encoded data removed]",
      "text/plain": [
       "<matplotlib.figure.Figure at 0x119e2dac8>"
      ]
     },
     "metadata": {},
     "output_type": "display_data"
    },
    {
     "name": "stdout",
     "output_type": "stream",
     "text": [
      "=========================================================\n",
      "Please add the following lines to your LaTeX preamble:\n",
      "\n",
      "\\usepackage[utf8]{inputenc}\n",
      "\\usepackage{fontspec} % This line only for XeLaTeX and LuaLaTeX\n",
      "\\usepackage{pgfplots}\n",
      "=========================================================\n",
      "Horizontal alignment will be ignored as no 'x tick label text width' has been passed in the 'extra' parameter\n",
      "Horizontal alignment will be ignored as no 'y tick label text width' has been passed in the 'extra' parameter\n"
     ]
    },
    {
     "data": {
      "image/png": "[encoded data removed]",
      "text/plain": [
       "<matplotlib.figure.Figure at 0x117317588>"
      ]
     },
     "metadata": {},
     "output_type": "display_data"
    }
   ],
   "source": [
    "ax = plt.axes()\n",
    "ax.semilogx(dims, test_acc_rie, label='Riemannian')\n",
    "ax.semilogx(dims, test_acc_euc, label='Euclidean')\n",
    "ax.semilogx(dims, test_acc_BT, label='Bradley-Terry')\n",
    "ax.semilogx(dims, test_acc_naive, label='Naive')\n",
    "plt.title('Test Accuracy - StarCraft HoTS Dataset')\n",
    "plt.xlabel('Dimension')\n",
    "plt.ylabel('Accuracy')\n",
    "plt.legend()\n",
    "tikz_save('../Figures/tikzFigs/HoTS_test.tex')\n",
    "# plt.savefig('../Figures/HoTS_test_acc.png',dpi=300)\n",
    "plt.show()\n",
    "\n",
    "ax = plt.axes()\n",
    "ax.semilogx(dims, train_acc_rie, label='Riemannian')\n",
    "ax.semilogx(dims, train_acc_euc, label='Euclidean')\n",
    "ax.semilogx(dims, train_acc_BT, label='Bradley-Terry')\n",
    "ax.semilogx(dims, train_acc_naive, label='Naive')\n",
    "plt.title('Training Accuracy - StarCraft HoTS Dataset')\n",
    "plt.xlabel('Dimension')\n",
    "plt.ylabel('Accuracy')\n",
    "plt.legend()\n",
    "tikz_save('../Figures/tikzFigs/HoTS_train.tex')\n",
    "\n",
    "# plt.savefig('../Figures/HoTS_train_acc.png',dpi=300)\n",
    "plt.show()\n"
   ]
  },
  {
   "cell_type": "markdown",
   "metadata": {},
   "source": [
    "Run *Starcraft II: Wings of Liberty* dataset."
   ]
  },
  {
   "cell_type": "code",
   "execution_count": 67,
   "metadata": {
    "collapsed": true
   },
   "outputs": [],
   "source": [
    "# Load Wings of Liberty dataset\n",
    "numPlayers, numGames, D_train, D_test = data_parse('../Datasets/starcraft/WoL.txt')"
   ]
  },
  {
   "cell_type": "code",
   "execution_count": 68,
   "metadata": {
    "collapsed": true
   },
   "outputs": [],
   "source": [
    "# Do optimization over set D\n",
    "\n",
    "modes = ['Euclidean','Riemannian']\n",
    "\n",
    "numTrain = len(D_train)\n",
    "dims = [2, 5, 10, 25, 50, 100, 150, 200, 250, 300]\n",
    "epochNum = 25\n",
    "alpha = 1e-2\n",
    "reg = 1e-2\n",
    "burnIn = 5\n",
    "\n",
    "train_acc_euc = np.zeros(len(dims))\n",
    "test_acc_euc = np.zeros(len(dims))\n",
    "\n",
    "train_acc_rie = np.zeros(len(dims))\n",
    "test_acc_rie = np.zeros(len(dims))\n",
    "\n",
    "for mode in modes:\n",
    "    for j in range(len(dims)):\n",
    "        WoL = blade_chest(numPlayers, dims[j])\n",
    "        \n",
    "        # training loop\n",
    "        for i in range(epochNum*numTrain):\n",
    "            if mode == 'Riemannian' and (i < 5*numTrain):\n",
    "                LR = alpha / 10\n",
    "            else:\n",
    "                LR = alpha\n",
    "                \n",
    "            datapoint = np.random.randint(0, high = numTrain)\n",
    "            playerA, playerB, na, nb = D_train[datapoint]\n",
    "            WoL.SGD_optimizer(playerA, playerB, (na,nb), LR, mode = mode, reg = reg)\n",
    "        \n",
    "        \n",
    "        if mode=='Riemannian':\n",
    "            train_acc_rie[j] = WoL.accuracy(D_train, mode = mode)\n",
    "            test_acc_rie[j] = WoL.accuracy(D_test, mode = mode)\n",
    "        else:\n",
    "            train_acc_euc[j] = WoL.accuracy(D_train, mode = mode)\n",
    "            test_acc_euc[j] = WoL.accuracy(D_test, mode = mode)\n",
    "            "
   ]
  },
  {
   "cell_type": "code",
   "execution_count": 69,
   "metadata": {
    "collapsed": true
   },
   "outputs": [],
   "source": [
    "# Train Bradley-Terry Model for dataset\n",
    "numTrain = len(D_train)\n",
    "epochNum = 25\n",
    "alpha = 5e-2\n",
    "\n",
    "train_acc_BT = np.zeros(len(dims))\n",
    "test_acc_BT = np.zeros(len(dims))\n",
    "\n",
    "WoL = blade_chest(numPlayers, 2, BT = True)\n",
    "\n",
    "# training loop\n",
    "for i in range(epochNum*numTrain):\n",
    "    datapoint = np.random.randint(0, high = numTrain)\n",
    "    playerA, playerB, na, nb = D_train[datapoint]\n",
    "    WoL.SGD_optimizer(playerA, playerB, (na,nb), alpha, reg = reg)\n",
    "\n",
    "        \n",
    "train_acc_BT = WoL.accuracy(D_train)\n",
    "train_acc_BT = train_acc_BT*np.ones(len(dims))\n",
    "\n",
    "test_acc_BT = WoL.accuracy(D_test)\n",
    "test_acc_BT = test_acc_BT*np.ones(len(dims))\n"
   ]
  },
  {
   "cell_type": "code",
   "execution_count": 71,
   "metadata": {},
   "outputs": [],
   "source": [
    "# Calculate naive prediction\n",
    "WoL = blade_chest(numPlayers, 1)\n",
    "WoL.naive_train(numPlayers, D_train)\n",
    "\n",
    "train_acc_naive = WoL.naive_eval(D_train)\n",
    "train_acc_naive = train_acc_naive*np.ones(len(dims))\n",
    "test_acc_naive = WoL.naive_eval(D_test)\n",
    "test_acc_naive = test_acc_naive*np.ones(len(dims))\n"
   ]
  },
  {
   "cell_type": "code",
   "execution_count": 72,
   "metadata": {},
   "outputs": [
    {
     "name": "stdout",
     "output_type": "stream",
     "text": [
      "=========================================================\n",
      "Please add the following lines to your LaTeX preamble:\n",
      "\n",
      "\\usepackage[utf8]{inputenc}\n",
      "\\usepackage{fontspec} % This line only for XeLaTeX and LuaLaTeX\n",
      "\\usepackage{pgfplots}\n",
      "=========================================================\n",
      "Horizontal alignment will be ignored as no 'x tick label text width' has been passed in the 'extra' parameter\n",
      "Horizontal alignment will be ignored as no 'y tick label text width' has been passed in the 'extra' parameter\n"
     ]
    },
    {
     "data": {
      "image/png": "[encoded data removed]",
      "text/plain": [
       "<matplotlib.figure.Figure at 0x125fd9630>"
      ]
     },
     "metadata": {},
     "output_type": "display_data"
    },
    {
     "name": "stdout",
     "output_type": "stream",
     "text": [
      "=========================================================\n",
      "Please add the following lines to your LaTeX preamble:\n",
      "\n",
      "\\usepackage[utf8]{inputenc}\n",
      "\\usepackage{fontspec} % This line only for XeLaTeX and LuaLaTeX\n",
      "\\usepackage{pgfplots}\n",
      "=========================================================\n",
      "Horizontal alignment will be ignored as no 'x tick label text width' has been passed in the 'extra' parameter\n",
      "Horizontal alignment will be ignored as no 'y tick label text width' has been passed in the 'extra' parameter\n"
     ]
    },
    {
     "data": {
      "image/png": "[encoded data removed]",
      "text/plain": [
       "<matplotlib.figure.Figure at 0x1254dfbe0>"
      ]
     },
     "metadata": {},
     "output_type": "display_data"
    }
   ],
   "source": [
    "ax = plt.axes()\n",
    "ax.semilogx(dims, test_acc_rie, label='Riemannian')\n",
    "ax.semilogx(dims, test_acc_euc, label='Euclidean')\n",
    "ax.semilogx(dims, test_acc_BT, label='Bradley-Terry')\n",
    "ax.semilogx(dims, test_acc_naive, label='Naive')\n",
    "plt.title('Test Accuracy - StarCraft WoL Dataset')\n",
    "plt.xlabel('Dimension')\n",
    "plt.ylabel('Accuracy')\n",
    "plt.legend()\n",
    "tikz_save('../Figures/tikzFigs/WoL_test.tex')\n",
    "# plt.savefig('../Figures/HoTS_test_acc.png',dpi=300)\n",
    "plt.show()\n",
    "\n",
    "ax = plt.axes()\n",
    "ax.semilogx(dims, train_acc_rie, label='Riemannian')\n",
    "ax.semilogx(dims, train_acc_euc, label='Euclidean')\n",
    "ax.semilogx(dims, train_acc_BT, label='Bradley-Terry')\n",
    "ax.semilogx(dims, train_acc_naive, label='Naive')\n",
    "plt.title('Training Accuracy - StarCraft WoL Dataset')\n",
    "plt.xlabel('Dimension')\n",
    "plt.ylabel('Accuracy')\n",
    "plt.legend()\n",
    "tikz_save('../Figures/tikzFigs/WoL_train.tex')\n",
    "\n",
    "# plt.savefig('../Figures/HoTS_train_acc.png',dpi=300)\n",
    "plt.show()\n"
   ]
  },
  {
   "cell_type": "markdown",
   "metadata": {
    "collapsed": true
   },
   "source": [
    "# Part D: Professional Sports\n",
    " Below we show results for the ATP dataset."
   ]
  },
  {
   "cell_type": "code",
   "execution_count": 56,
   "metadata": {
    "collapsed": true
   },
   "outputs": [],
   "source": [
    "# Load dataset\n",
    "numPlayers, numGames, D_train, D_test = data_parse('../Datasets/tennis/tennis.txt')"
   ]
  },
  {
   "cell_type": "code",
   "execution_count": 58,
   "metadata": {},
   "outputs": [],
   "source": [
    "# Do optimization over set D\n",
    "\n",
    "modes = ['Euclidean','Riemannian']\n",
    "\n",
    "numTrain = len(D_train)\n",
    "dims = [2, 5, 10, 25, 50, 100, 150, 200, 250, 300]\n",
    "epochNum = 25\n",
    "alpha = 1e-2\n",
    "reg = 1e-2\n",
    "burnIn = 5\n",
    "\n",
    "train_acc_euc = np.zeros(len(dims))\n",
    "test_acc_euc = np.zeros(len(dims))\n",
    "\n",
    "train_acc_rie = np.zeros(len(dims))\n",
    "test_acc_rie = np.zeros(len(dims))\n",
    "\n",
    "for mode in modes:\n",
    "    for j in range(len(dims)):\n",
    "        ATP = blade_chest(numPlayers, dims[j])\n",
    "        \n",
    "        # training loop\n",
    "        for i in range(epochNum*numTrain):\n",
    "            if mode == 'Riemannian' and (i < burnIn*numTrain):\n",
    "                LR = alpha / 10\n",
    "            else:\n",
    "                LR = alpha\n",
    "                \n",
    "            datapoint = np.random.randint(0, high = numTrain)\n",
    "            playerA, playerB, na, nb = D_train[datapoint]\n",
    "            ATP.SGD_optimizer(playerA, playerB, (na,nb), LR, mode = mode, reg = reg)\n",
    "        \n",
    "        \n",
    "        if mode=='Riemannian':\n",
    "            train_acc_rie[j] = ATP.accuracy(D_train, mode = mode)\n",
    "            test_acc_rie[j] = ATP.accuracy(D_test, mode = mode)\n",
    "        else:\n",
    "            train_acc_euc[j] = ATP.accuracy(D_train, mode = mode)\n",
    "            test_acc_euc[j] = ATP.accuracy(D_test, mode = mode)\n",
    "            "
   ]
  },
  {
   "cell_type": "code",
   "execution_count": 63,
   "metadata": {},
   "outputs": [],
   "source": [
    "# Train Bradley-Terry Model for ATP dataset\n",
    "numTrain = len(D_train)\n",
    "epochNum = 10\n",
    "alpha = 1e-2\n",
    "\n",
    "train_acc_BT = np.zeros(len(dims))\n",
    "test_acc_BT = np.zeros(len(dims))\n",
    "\n",
    "ATP = blade_chest(numPlayers, 2, BT = True)\n",
    "\n",
    "# training loop\n",
    "for i in range(epochNum*numTrain):\n",
    "    datapoint = np.random.randint(0, high = numTrain)\n",
    "    playerA, playerB, na, nb = D_train[datapoint]\n",
    "    ATP.SGD_optimizer(playerA, playerB, (na,nb), alpha, reg = reg)\n",
    "\n",
    "        \n",
    "train_acc_BT = ATP.accuracy(D_train)\n",
    "train_acc_BT = train_acc_BT*np.ones(len(dims))\n",
    "\n",
    "test_acc_BT = ATP.accuracy(D_test)\n",
    "test_acc_BT = test_acc_BT*np.ones(len(dims))\n"
   ]
  },
  {
   "cell_type": "code",
   "execution_count": 64,
   "metadata": {
    "collapsed": true
   },
   "outputs": [],
   "source": [
    "# Calculate naive prediction\n",
    "ATP = blade_chest(numPlayers, 1)\n",
    "ATP.naive_train(numPlayers, D_train)\n",
    "\n",
    "train_acc_naive = ATP.naive_eval(D_train)\n",
    "train_acc_naive = train_acc_naive*np.ones(len(dims))\n",
    "test_acc_naive = ATP.naive_eval(D_test)\n",
    "test_acc_naive = test_acc_naive*np.ones(len(dims))\n"
   ]
  },
  {
   "cell_type": "code",
   "execution_count": 66,
   "metadata": {},
   "outputs": [
    {
     "name": "stdout",
     "output_type": "stream",
     "text": [
      "=========================================================\n",
      "Please add the following lines to your LaTeX preamble:\n",
      "\n",
      "\\usepackage[utf8]{inputenc}\n",
      "\\usepackage{fontspec} % This line only for XeLaTeX and LuaLaTeX\n",
      "\\usepackage{pgfplots}\n",
      "=========================================================\n",
      "Horizontal alignment will be ignored as no 'x tick label text width' has been passed in the 'extra' parameter\n",
      "Horizontal alignment will be ignored as no 'y tick label text width' has been passed in the 'extra' parameter\n"
     ]
    },
    {
     "data": {
      "image/png": "[encoded data removed]",
      "text/plain": [
       "<matplotlib.figure.Figure at 0x119c84898>"
      ]
     },
     "metadata": {},
     "output_type": "display_data"
    },
    {
     "name": "stdout",
     "output_type": "stream",
     "text": [
      "=========================================================\n",
      "Please add the following lines to your LaTeX preamble:\n",
      "\n",
      "\\usepackage[utf8]{inputenc}\n",
      "\\usepackage{fontspec} % This line only for XeLaTeX and LuaLaTeX\n",
      "\\usepackage{pgfplots}\n",
      "=========================================================\n",
      "Horizontal alignment will be ignored as no 'x tick label text width' has been passed in the 'extra' parameter\n",
      "Horizontal alignment will be ignored as no 'y tick label text width' has been passed in the 'extra' parameter\n"
     ]
    },
    {
     "data": {
      "image/png": "[encoded data removed]",
      "text/plain": [
       "<matplotlib.figure.Figure at 0x119b6b1d0>"
      ]
     },
     "metadata": {},
     "output_type": "display_data"
    }
   ],
   "source": [
    "ax = plt.axes()\n",
    "ax.semilogx(dims, test_acc_rie, label='Riemannian')\n",
    "ax.semilogx(dims, test_acc_euc, label='Euclidean')\n",
    "ax.semilogx(dims, test_acc_BT, label='Bradley-Terry')\n",
    "ax.semilogx(dims, test_acc_naive, label='Naive')\n",
    "plt.title('Test Accuracy - ATP Dataset')\n",
    "plt.xlabel('Dimension')\n",
    "plt.ylabel('Accuracy')\n",
    "plt.legend()\n",
    "tikz_save('../Figures/tikzFigs/tennis_test.tex')\n",
    "# plt.savefig('../Figures/HoTS_test_acc.png',dpi=300)\n",
    "plt.show()\n",
    "\n",
    "ax = plt.axes()\n",
    "ax.semilogx(dims, train_acc_rie, label='Riemannian')\n",
    "ax.semilogx(dims, train_acc_euc, label='Euclidean')\n",
    "ax.semilogx(dims, train_acc_BT, label='Bradley-Terry')\n",
    "ax.semilogx(dims, train_acc_naive, label='Naive')\n",
    "plt.title('Training Accuracy - ATP Dataset')\n",
    "plt.xlabel('Dimension')\n",
    "plt.ylabel('Accuracy')\n",
    "plt.legend()\n",
    "tikz_save('../Figures/tikzFigs/tennis_train.tex')\n",
    "\n",
    "# plt.savefig('../Figures/HoTS_train_acc.png',dpi=300)\n",
    "plt.show()\n"
   ]
  },
  {
   "cell_type": "code",
   "execution_count": null,
   "metadata": {
    "collapsed": true
   },
   "outputs": [],
   "source": []
  }
 ],
 "metadata": {
  "kernelspec": {
   "display_name": "Python 3",
   "language": "python",
   "name": "python3"
  },
  "language_info": {
   "codemirror_mode": {
    "name": "ipython",
    "version": 3
   },
   "file_extension": ".py",
   "mimetype": "text/x-python",
   "name": "python",
   "nbconvert_exporter": "python",
   "pygments_lexer": "ipython3",
   "version": "3.6.1"
  }
 },
 "nbformat": 4,
 "nbformat_minor": 2
}
